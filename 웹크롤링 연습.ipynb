{
 "cells": [
  {
   "cell_type": "markdown",
   "id": "26f4b8d7",
   "metadata": {},
   "source": [
    "# 파이썬 연습자료 2023. 7. 29.\n",
    "# 웨크롤링\n"
   ]
  },
  {
   "cell_type": "markdown",
   "id": "1d8f7327",
   "metadata": {},
   "source": [
    "- HTML (Hyper Text Mark up Language)\n",
    "HTML의 구성을 알아야지 해당 정보를 크롤링할 수 있음\n",
    "\n",
    "\n",
    "- HTML은 (뼈대- 크롤링할떄는 이것만 알아도 충분)\n",
    "- CSS 웹을 꾸미는 언어 (폰트 색, 크기 더 상세히)\n",
    "- java script (웹의 동적인 부분, 버튼, 경고창)\n"
   ]
  },
  {
   "cell_type": "code",
   "execution_count": 10,
   "id": "4dbdb6a1",
   "metadata": {},
   "outputs": [
    {
     "ename": "IndentationError",
     "evalue": "unexpected indent (2297582495.py, line 4)",
     "output_type": "error",
     "traceback": [
      "\u001b[1;36m  Cell \u001b[1;32mIn[10], line 4\u001b[1;36m\u001b[0m\n\u001b[1;33m    단,예외는 있다. ex)img, br, hr (시각적인것들)\u001b[0m\n\u001b[1;37m    ^\u001b[0m\n\u001b[1;31mIndentationError\u001b[0m\u001b[1;31m:\u001b[0m unexpected indent\n"
     ]
    }
   ],
   "source": [
    "# [HTML 기본구조]\n",
    "# 태그는 옷에 달린 태그처럼 문단의 속성을 나타내주는것\n",
    "# 태그는 시작 태그와 앤드 태그로 닫아줘야된다. \n",
    " 단,예외는 있다. ex)img, br, hr (시각적인것들) \n",
    "<html>\n",
    "<head>\n",
    "</head>\n",
    "<body>\n",
    "\n",
    "</body>\n",
    "</html>\n",
    "\n",
    "\n"
   ]
  },
  {
   "cell_type": "code",
   "execution_count": 12,
   "id": "0c408dc2",
   "metadata": {},
   "outputs": [
    {
     "ename": "SyntaxError",
     "evalue": "invalid syntax (4045149678.py, line 1)",
     "output_type": "error",
     "traceback": [
      "\u001b[1;36m  Cell \u001b[1;32mIn[12], line 1\u001b[1;36m\u001b[0m\n\u001b[1;33m    <!DOCTYPE html>\u001b[0m\n\u001b[1;37m    ^\u001b[0m\n\u001b[1;31mSyntaxError\u001b[0m\u001b[1;31m:\u001b[0m invalid syntax\n"
     ]
    }
   ],
   "source": [
    "<!DOCTYPE html>\n",
    "<html>\n",
    "<body>\n",
    "\n",
    "<h1>My First Heading</h1>\n",
    "<p>My first paragraph.</p>\n",
    "\n",
    "</body>\n",
    "</html>"
   ]
  },
  {
   "cell_type": "markdown",
   "id": "54074ef3",
   "metadata": {},
   "source": [
    "- beautiful soup\n",
    "/크롤링방지한 사이트(너무빠른 작동, 스크룰 내릴때마다 URL 바뀌는것)은 힘듬\n",
    "\n",
    "- selenium\n",
    "/사람처럼 행동해서 크롤링 편함"
   ]
  }
 ],
 "metadata": {
  "kernelspec": {
   "display_name": "Python 3 (ipykernel)",
   "language": "python",
   "name": "python3"
  },
  "language_info": {
   "codemirror_mode": {
    "name": "ipython",
    "version": 3
   },
   "file_extension": ".py",
   "mimetype": "text/x-python",
   "name": "python",
   "nbconvert_exporter": "python",
   "pygments_lexer": "ipython3",
   "version": "3.10.9"
  }
 },
 "nbformat": 4,
 "nbformat_minor": 5
}
